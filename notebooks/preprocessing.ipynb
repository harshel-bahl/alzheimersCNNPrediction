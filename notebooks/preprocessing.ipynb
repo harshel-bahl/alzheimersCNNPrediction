{
 "cells": [
  {
   "cell_type": "code",
   "execution_count": 1,
   "metadata": {},
   "outputs": [],
   "source": [
    "data_path = \"../data\"\n",
    "classes = (\"Non_Demented\", \"Very_Mild_Demented\", \"Mild_Demented\", \"Moderate_Demented\")"
   ]
  },
  {
   "cell_type": "code",
   "execution_count": 2,
   "metadata": {},
   "outputs": [],
   "source": [
    "import numpy as np\n",
    "import pandas as pd\n",
    "import os"
   ]
  },
  {
   "cell_type": "code",
   "execution_count": 3,
   "metadata": {},
   "outputs": [],
   "source": [
    "def one_hot(item, labels=(\"Non_Demented\", \"Very_Mild_Demented\", \"Mild_Demented\", \"Moderate_Demented\")):\n",
    "    ret = np.zeros(len(labels))\n",
    "    ret[list(labels).index(item)] = 1\n",
    "    return ret"
   ]
  },
  {
   "cell_type": "code",
   "execution_count": 4,
   "metadata": {},
   "outputs": [
    {
     "name": "stdout",
     "output_type": "stream",
     "text": [
      "                 name  label\n",
      "0         non_418.jpg      0\n",
      "1        non_1153.jpg      0\n",
      "2        non_2941.jpg      0\n",
      "3        non_1490.jpg      0\n",
      "4         non_839.jpg      0\n",
      "...               ...    ...\n",
      "6395  moderate_52.jpg      3\n",
      "6396   moderate_4.jpg      3\n",
      "6397  moderate_21.jpg      3\n",
      "6398  moderate_64.jpg      3\n",
      "6399  moderate_51.jpg      3\n",
      "\n",
      "[6400 rows x 2 columns]\n"
     ]
    }
   ],
   "source": [
    "metadata = {\n",
    "    \"name\": [],\n",
    "    \"label\": []\n",
    "}\n",
    "\n",
    "for ad_class in classes:\n",
    "    for item in os.listdir(os.path.join(data_path, ad_class)):\n",
    "        metadata[\"name\"].append(item)\n",
    "        metadata[\"label\"].append(list(classes).index(ad_class))\n",
    "metadata = pd.DataFrame(metadata)\n",
    "print(metadata)"
   ]
  },
  {
   "cell_type": "code",
   "execution_count": 5,
   "metadata": {},
   "outputs": [],
   "source": [
    "metadata.to_csv(os.path.join(data_path, \"metadata.csv\"), index=False)"
   ]
  },
  {
   "cell_type": "code",
   "execution_count": 6,
   "metadata": {},
   "outputs": [],
   "source": [
    "os.makedirs(os.path.join(data_path, \"preprocessed\"), exist_ok=True)\n",
    "\n",
    "from shutil import copyfile\n",
    "for ad_class in classes:\n",
    "    class_dir = os.path.join(data_path, ad_class)\n",
    "    for item in os.listdir(class_dir):\n",
    "        copyfile(os.path.join(class_dir, item), os.path.join(data_path, \"preprocessed\", item))"
   ]
  },
  {
   "cell_type": "code",
   "execution_count": null,
   "metadata": {},
   "outputs": [],
   "source": []
  }
 ],
 "metadata": {
  "kernelspec": {
   "display_name": "venv",
   "language": "python",
   "name": "python3"
  },
  "language_info": {
   "codemirror_mode": {
    "name": "ipython",
    "version": 3
   },
   "file_extension": ".py",
   "mimetype": "text/x-python",
   "name": "python",
   "nbconvert_exporter": "python",
   "pygments_lexer": "ipython3",
   "version": "3.9.14"
  },
  "orig_nbformat": 4
 },
 "nbformat": 4,
 "nbformat_minor": 2
}
